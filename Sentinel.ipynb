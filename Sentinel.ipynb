{
  "nbformat": 4,
  "nbformat_minor": 0,
  "metadata": {
    "colab": {
      "name": "Sentinel.ipynb",
      "provenance": [],
      "collapsed_sections": [],
      "machine_shape": "hm",
      "mount_file_id": "1CjYUj8qg8wNqPejixwu1DQztmX8Mngvh",
      "authorship_tag": "ABX9TyOfB7pa1rHL0OAW5kzTNWJ+",
      "include_colab_link": true
    },
    "kernelspec": {
      "name": "python3",
      "display_name": "Python 3"
    },
    "accelerator": "GPU"
  },
  "cells": [
    {
      "cell_type": "markdown",
      "metadata": {
        "id": "view-in-github",
        "colab_type": "text"
      },
      "source": [
        "<a href=\"https://colab.research.google.com/github/am610/DeepFake/blob/main/Sentinel.ipynb\" target=\"_parent\"><img src=\"https://colab.research.google.com/assets/colab-badge.svg\" alt=\"Open In Colab\"/></a>"
      ]
    },
    {
      "cell_type": "code",
      "metadata": {
        "id": "58vONawcOosE"
      },
      "source": [
        "import cv2\n",
        "import dlib\n",
        "import glob\n",
        "import json\n",
        "import math\n",
        "import random\n",
        "import statistics\n",
        "import tqdm.notebook as tqdm\n",
        "import re\n",
        "from pylab import *\n",
        "from PIL import Image, ImageChops, ImageEnhance\n",
        "from IPython import display\n",
        "from timeit import default_timer as timer\n",
        "from datetime import timedelta\n",
        "import os\n",
        "import tensorflow as tf\n",
        "import numpy as np\n",
        "import matplotlib.pyplot as plt\n",
        "import seaborn as sn\n",
        "import pandas as pd\n",
        "from tensorflow.keras.preprocessing.image import ImageDataGenerator, img_to_array, load_img\n",
        "from tensorflow.keras.utils import to_categorical\n",
        "from tensorflow.keras.applications import InceptionResNetV2\n",
        "from tensorflow.keras.layers import Conv2D\n",
        "from tensorflow.keras.layers import MaxPooling2D\n",
        "from tensorflow.keras.layers import Flatten\n",
        "from tensorflow.keras.layers import Dense\n",
        "from tensorflow.keras.layers import Dropout\n",
        "from tensorflow.keras.layers import InputLayer\n",
        "from tensorflow.keras.layers import GlobalAveragePooling2D, GlobalMaxPooling2D\n",
        "from tensorflow.keras.models import Sequential\n",
        "from tensorflow.keras.models import Model\n",
        "from tensorflow.keras import optimizers\n",
        "from tensorflow.keras.callbacks import ReduceLROnPlateau, EarlyStopping\n",
        "from tensorflow.keras.models import load_model\n",
        "from tensorflow.keras.preprocessing.image import img_to_array, load_img\n",
        "from sklearn.model_selection import train_test_split\n",
        "from sklearn.metrics import confusion_matrix,classification_report, accuracy_score\n",
        "from google.colab.patches import cv2_imshow\n",
        "from scipy.stats import ttest_1samp\n",
        "from PIL import Image, ImageChops, ImageEnhance\n",
        "import io\n",
        "import base64\n",
        "from IPython.display import HTML\n",
        "import imageio\n",
        "import matplotlib.animation as animation\n",
        "from matplotlib.ticker import (MultipleLocator, FormatStrFormatter,AutoMinorLocator)\n",
        "from skimage.transform import resize\n",
        "import warnings"
      ],
      "execution_count": 37,
      "outputs": []
    },
    {
      "cell_type": "code",
      "metadata": {
        "id": "fqdh5vggmik_"
      },
      "source": [
        "warnings.filterwarnings(\"ignore\")\n",
        "plt.rcParams['axes.grid'] = True\n",
        "plt.rcParams['grid.alpha'] = 1\n",
        "input_shape = (128, 128, 3)"
      ],
      "execution_count": 2,
      "outputs": []
    },
    {
      "cell_type": "markdown",
      "metadata": {
        "id": "J4Jc0HpZ2Nr8"
      },
      "source": [
        "# Add this folder to your google drive https://drive.google.com/drive/folders/1Zppu1TunpSD46r9n0rQhdrMVBrqLcIUx?usp=sharing\n",
        "\n"
      ]
    },
    {
      "cell_type": "markdown",
      "metadata": {
        "id": "CPcH_vMdcwFy"
      },
      "source": [
        "### ----------------------------------------------------------------------------------------------------------------------------------------------------------------------------------------\n",
        "### ----------------------------------------------------------------------------------------------------------------------------------------------------------------------------------------\n",
        "## Function Declaration\n",
        "##### Function to Display video "
      ]
    },
    {
      "cell_type": "code",
      "metadata": {
        "id": "KudluBSWGYs5"
      },
      "source": [
        "def display(driving, generated=None):\n",
        "    fig = plt.figure(figsize=(8 + 4 * (generated is not None), 6))\n",
        "\n",
        "    ims = []\n",
        "    for i in range(len(driving)):\n",
        "        cols = []\n",
        "        cols.append(driving[i])\n",
        "        if generated is not None:\n",
        "            cols.append(generated[i])\n",
        "        im = plt.imshow(np.concatenate(cols, axis=1), animated=True)\n",
        "        plt.axis('off')\n",
        "        ims.append([im])\n",
        "\n",
        "    ani = animation.ArtistAnimation(fig, ims, interval=50, repeat_delay=1000)\n",
        "    plt.close()\n",
        "    return ani"
      ],
      "execution_count": 3,
      "outputs": []
    },
    {
      "cell_type": "markdown",
      "metadata": {
        "id": "PIaPvz0vk8aj"
      },
      "source": [
        "##### Callback Function Declaration for CNN"
      ]
    },
    {
      "cell_type": "code",
      "metadata": {
        "id": "D1Z9sE3yk6am"
      },
      "source": [
        "class myCallback(tf.keras.callbacks.Callback):\n",
        "  def on_epoch_end(self, epoch, logs={}):\n",
        "    if(logs.get('accuracy')>0.997): # 3 sigma \n",
        "      print(\"\\nReached 99.7% accuracy so cancelling training!\")\n",
        "      self.model.stop_training = True"
      ],
      "execution_count": 4,
      "outputs": []
    },
    {
      "cell_type": "code",
      "metadata": {
        "id": "cRBF06k__krt"
      },
      "source": [
        "def print_confusion_matrix(y_true, y_pred):\n",
        "    warnings.filterwarnings(\"ignore\")\n",
        "    confusion = confusion_matrix(label, model1.predict_classes(X))\n",
        "    #print(confusion)\n",
        "    print('Accuracy% = ',(accuracy_score(label, model1.predict_classes(X), normalize=False)*100/len(label)))\n",
        "    print(classification_report(label, model1.predict_classes(X)))\n",
        "    total = (confusion[0][0]+confusion[0][1]+confusion[1][0]+confusion[1][1])\n",
        "    fig, ax = plt.subplots()\n",
        "    print('---------------------------')\n",
        "    print('---------------------------')\n",
        "    print('True positive = %s , (%.2f)%%'%(confusion[0][0],confusion[0][0]*100/total) )\n",
        "    print('False positive = %s , (%.2f)%% '%(confusion[0][1],confusion[0][1]*100/total) )\n",
        "    print('False negative = %s , (%.2f)%%'%(confusion[1][0],confusion[1][0]*100/total) )\n",
        "    print('True negative =  %s , (%.2f)%%'%(confusion[1][1],confusion[1][1]*100/total) )\n",
        "    print('---------------------------')\n",
        "    print('---------------------------')\n",
        "    print('\\n')\n",
        "    df_confusion = pd.DataFrame(confusion, range(2), range(2))\n",
        "    sn.set(font_scale=1.4) # for label size\n",
        "    sn.heatmap(df_confusion, annot=True, annot_kws={\"size\": 16},cmap=\"YlGnBu\") # font size\n",
        "    plt.ylabel('True label', size = 20)\n",
        "    plt.xlabel('Predicted label', size = 20)\n",
        "    plt.ylim([2, 0])\n",
        "    xticklabels = ['     Fake', '     True']\n",
        "    yticklabels = ['Fake', 'True']\n",
        "    ax.set_xticklabels(xticklabels,rotation = 45)\n",
        "    ax.set_yticklabels(yticklabels,rotation = 45)\n",
        "    plt.show()    "
      ],
      "execution_count": 63,
      "outputs": []
    },
    {
      "cell_type": "code",
      "metadata": {
        "id": "uaENV9t5knnE"
      },
      "source": [
        "# Hypothesis 1 sample t-test. \n",
        "# Assuming Null hypothesis  = Real Video. \n",
        "# Alternate Hypothesis = Fake Video\n",
        "def hypothesis(hypo):\n",
        "  tset, pval = ttest_1samp(hypo, 1)\n",
        "  if (pval<0.05):\n",
        "    print('Fake Video')\n",
        "  else:\n",
        "    print('Real Video')  "
      ],
      "execution_count": 50,
      "outputs": []
    },
    {
      "cell_type": "markdown",
      "metadata": {
        "id": "AYx6QkTk6PiW"
      },
      "source": [
        "### ----------------------------------------------------------------------------------------------------------------------------------------------------------------------------------------\n",
        "### ----------------------------------------------------------------------------------------------------------------------------------------------------------------------------------------"
      ]
    },
    {
      "cell_type": "markdown",
      "metadata": {
        "id": "fNnjEO6Fmmn-"
      },
      "source": [
        "## Mounting Drive. \n",
        "## Setting Path"
      ]
    },
    {
      "cell_type": "code",
      "metadata": {
        "id": "-wFHWy1gP24G",
        "outputId": "006db471-4275-4978-9b58-ca1310ae39a3",
        "colab": {
          "base_uri": "https://localhost:8080/",
          "height": 34
        }
      },
      "source": [
        "from google.colab import drive\n",
        "drive.mount('/content/gdrive')"
      ],
      "execution_count": 7,
      "outputs": [
        {
          "output_type": "stream",
          "text": [
            "Mounted at /content/gdrive\n"
          ],
          "name": "stdout"
        }
      ]
    },
    {
      "cell_type": "code",
      "metadata": {
        "id": "ntEdgpfsRT2l",
        "outputId": "b3ff88a2-f381-43fb-e789-75bd70bd3e0f",
        "colab": {
          "base_uri": "https://localhost:8080/",
          "height": 34
        }
      },
      "source": [
        "print('CUDA usage: {}'.format(dlib.DLIB_USE_CUDA))"
      ],
      "execution_count": 8,
      "outputs": [
        {
          "output_type": "stream",
          "text": [
            "CUDA usage: True\n"
          ],
          "name": "stdout"
        }
      ]
    },
    {
      "cell_type": "markdown",
      "metadata": {
        "id": "DxUEBR8SmkNh"
      },
      "source": [
        "##### Change your gdrive Path acordingly"
      ]
    },
    {
      "cell_type": "code",
      "metadata": {
        "id": "WyQI9QHKVjMD"
      },
      "source": [
        "DATA_PREFIX = '/content/gdrive/My Drive/Videos_DF/v/v2'"
      ],
      "execution_count": 9,
      "outputs": []
    },
    {
      "cell_type": "code",
      "metadata": {
        "id": "UgPqRbNpxQM1"
      },
      "source": [
        "! rm -r '/content/gdrive/My Drive/Videos_DF/v/v2/dataset/real/'\n",
        "! rm -r '/content/gdrive/My Drive/Videos_DF/v/v2/dataset/fake/'\n",
        "! mkdir '/content/gdrive/My Drive/Videos_DF/v/v2/dataset/real/'\n",
        "! mkdir '/content/gdrive/My Drive/Videos_DF/v/v2/dataset/fake/'\n",
        "! ls '/content/gdrive/My Drive/Videos_DF/v/v2/dataset/real/'"
      ],
      "execution_count": 10,
      "outputs": []
    },
    {
      "cell_type": "markdown",
      "metadata": {
        "id": "Dc1oJ_13mZ00"
      },
      "source": [
        "### ----------------------------------------------------------------------------------------------------------------------------------------------------------------------------------------\n",
        "### ----------------------------------------------------------------------------------------------------------------------------------------------------------------------------------------"
      ]
    },
    {
      "cell_type": "markdown",
      "metadata": {
        "id": "ODF3lIwpmyRk"
      },
      "source": [
        "### Preprocessing : Reading the videos. \n",
        "##### The videos are located in two seperate folders, named as Real and Fake. We read them in and then using 'dlib' library focus on detecting there facial regions. Using 'Opencv2' we capture frames from the videos then we crop the aspect ratio and then the 'dlib' function checks for faces in them. We do this seperately for the two folders and store the captured images."
      ]
    },
    {
      "cell_type": "code",
      "metadata": {
        "id": "EWRu3-asonCZ"
      },
      "source": [
        "# Creating the input data from the real videos, for feeding into CNN engine.\n",
        "input_path_real = DATA_PREFIX+'/real'#'/r_test'\n",
        "list_of_real_video = [video for video in os.listdir(input_path_real) if video.endswith('.mp4')]\n",
        "\n",
        "# Now creating the fake video's data\n",
        "input_path_fake = DATA_PREFIX+'/fake'#'/f_test'\n",
        "list_of_fake_video = [f for f in os.listdir(input_path_fake) if f.endswith('.mp4')]"
      ],
      "execution_count": 11,
      "outputs": []
    },
    {
      "cell_type": "code",
      "metadata": {
        "id": "cnsC8BD2o132"
      },
      "source": [
        "detector = dlib.get_frontal_face_detector()"
      ],
      "execution_count": 12,
      "outputs": []
    },
    {
      "cell_type": "code",
      "metadata": {
        "id": "L9KATC6LQQBy"
      },
      "source": [
        "# Real \n",
        "for vid in list_of_real_video:\n",
        "    count_real = 0\n",
        "    cap = cv2.VideoCapture(os.path.join(input_path_real, vid))\n",
        "    frameRate = cap.get(5)\n",
        "    while cap.isOpened():\n",
        "        frameId = cap.get(1)\n",
        "        ret, frame = cap.read()\n",
        "        if ret != True:\n",
        "            break\n",
        "        if frameId % ((int(frameRate)+1)*1) == 0:\n",
        "            face_rects, scores, idx = detector.run(frame, 0)\n",
        "            for i, pos in enumerate(face_rects):\n",
        "                left = pos.left()\n",
        "                top = pos.top()\n",
        "                right = pos.right()\n",
        "                bottom = pos.bottom()\n",
        "                crop_img = frame[top:bottom, left:right]\n",
        "                if (np.shape(crop_img)[0]==0):\n",
        "                  continue\n",
        "                elif (np.shape(crop_img)[1]==0): \n",
        "                  continue\n",
        "                elif (np.shape(crop_img)[2]==0): \n",
        "                  continue   \n",
        "                cv2.imwrite(DATA_PREFIX+'/dataset/real/'+vid.split('.')[0]+'_'+str(count_real)+'.png', cv2.resize(crop_img, (128, 128)))\n",
        "                print(count_real)\n",
        "                count_real+=1"
      ],
      "execution_count": null,
      "outputs": []
    },
    {
      "cell_type": "code",
      "metadata": {
        "id": "OcuQ1s0lbfiu"
      },
      "source": [
        "#Fake\n",
        "for vid in list_of_fake_video:\n",
        "    count_fake = 0\n",
        "    cap = cv2.VideoCapture(os.path.join(input_path_fake, vid))\n",
        "    frameRate = cap.get(5)\n",
        "    while cap.isOpened():\n",
        "        frameId = cap.get(1)\n",
        "        ret, frame = cap.read()\n",
        "        if ret != True:\n",
        "            break\n",
        "        if frameId % ((int(frameRate)+1)*1) == 0:\n",
        "            face_rects, scores, idx = detector.run(frame, 0)\n",
        "            for i, pos in enumerate(face_rects):\n",
        "                left = pos.left()\n",
        "                top = pos.top()\n",
        "                right = pos.right()\n",
        "                bottom = pos.bottom()\n",
        "                crop_img = frame[top:bottom, left:right] \n",
        "                if (np.shape(crop_img)[0]==0):\n",
        "                  continue\n",
        "                elif (np.shape(crop_img)[1]==0): \n",
        "                  continue\n",
        "                elif (np.shape(crop_img)[2]==0): \n",
        "                  continue              \n",
        "                cv2.imwrite(DATA_PREFIX+'/dataset/fake/'+vid.split('.')[0]+'_'+str(count_fake)+'.png', cv2.resize(crop_img, (128, 128)))\n",
        "                print(count_fake)\n",
        "                count_fake+=1"
      ],
      "execution_count": null,
      "outputs": []
    },
    {
      "cell_type": "code",
      "metadata": {
        "id": "eQrGscUQyxr7",
        "outputId": "bedc60a7-2fe5-4d54-8315-0ce1762d9d17",
        "colab": {
          "base_uri": "https://localhost:8080/",
          "height": 51
        }
      },
      "source": [
        "! ls   '/content/gdrive/My Drive/Videos_DF/v/v2/dataset/fake/' | wc -l\n",
        "! ls   '/content/gdrive/My Drive/Videos_DF/v/v2/dataset/real/' | wc -l"
      ],
      "execution_count": 16,
      "outputs": [
        {
          "output_type": "stream",
          "text": [
            "11349\n",
            "10161\n"
          ],
          "name": "stdout"
        }
      ]
    },
    {
      "cell_type": "markdown",
      "metadata": {
        "id": "b8z5CmHsomI_"
      },
      "source": [
        "##### Now we read in the pictures and convert them to arrays suitable for machine learning. We then split the whole data set into train test section in $80-20$ ratio."
      ]
    },
    {
      "cell_type": "code",
      "metadata": {
        "id": "PSI08HJ8wRiK",
        "outputId": "d54aa2e7-86c4-4ab8-e78a-b178825e5a3a",
        "colab": {
          "base_uri": "https://localhost:8080/",
          "height": 34
        }
      },
      "source": [
        "input_dir = DATA_PREFIX+'/dataset'\n",
        "real_data = [f for f in os.listdir(input_dir+'/real') if f.endswith('.png')]\n",
        "fake_data = [f for f in os.listdir(input_dir+'/fake') if f.endswith('.png')]\n",
        "X = [];Y = [];factor = 255.0;\n",
        "for img in real_data:\n",
        "    X.append(img_to_array(load_img(input_dir+'/real/'+img)).flatten() / factor)\n",
        "    Y.append(1) # 1 = Real\n",
        "for img in fake_data:\n",
        "    X.append(img_to_array(load_img(input_dir+'/fake/'+img)).flatten() / factor)\n",
        "    Y.append(0) # 0 = Fake\n",
        "label = Y\n",
        "#Normalization\n",
        "X = np.array(X);Y = to_categorical(Y, 2); # Binary Classification. \n",
        "#Reshape\n",
        "print(np.shape(X))\n",
        "X = X.reshape(-1, 128, 128, 3)\n",
        "#Train-Test split\n",
        "X_train, X_val, Y_train, Y_val = train_test_split(X, Y, test_size = 0.2, random_state=5)"
      ],
      "execution_count": 17,
      "outputs": [
        {
          "output_type": "stream",
          "text": [
            "(21510, 49152)\n"
          ],
          "name": "stdout"
        }
      ]
    },
    {
      "cell_type": "markdown",
      "metadata": {
        "id": "PDkuXUqjySpy"
      },
      "source": [
        "## Machine Learning : Convolutional Neural Network.\n",
        "#### For the first convolution kernel we use the InceptionResNetV2. Res Net : Residual Network with Stochastic Gradient Descent. Based on [arxiv.org:1602.07261]. The inception ResNet V2, which is used here, is a convolutional neural network (CNN) that is trained on more than a million images from the ImageNet database. The network is 164 layers deep and can classify images into 1000 object categories. As a result, the network has learned rich feature representations for a wide range of images. We use pretrained 'imagenet' for weights initialization. "
      ]
    },
    {
      "cell_type": "code",
      "metadata": {
        "id": "z_6njWozw8rv"
      },
      "source": [
        "def create_model():\n",
        "  conv_base = InceptionResNetV2(include_top=False, weights='imagenet', input_shape=input_shape) # \n",
        "  conv_base.trainable = True\n",
        "  callbacks = myCallback()\n",
        "  model = Sequential()\n",
        "  model.add(conv_base)\n",
        "  model.add(GlobalAveragePooling2D()) # GlobalMaxPooling2D\n",
        "  #model.add(GlobalMaxPooling2D())\n",
        "  #model.add(MaxPooling2D(4,4))\n",
        "  #model.add(Dropout(0.8))\n",
        "  model.add(Dense(units=2, activation='softmax')) # Classifier\n",
        "  return model"
      ],
      "execution_count": 6,
      "outputs": []
    },
    {
      "cell_type": "code",
      "metadata": {
        "id": "qmfZJlnfx_GN",
        "outputId": "619faa5b-3721-40c8-8974-f26f4af65923",
        "colab": {
          "base_uri": "https://localhost:8080/",
          "height": 309
        }
      },
      "source": [
        "model1 = create_model()\n",
        "batch_size = 80\n",
        "epochs = 100\n",
        "callbacks = myCallback()\n",
        "model1.compile(loss='binary_crossentropy',optimizer=optimizers.Adam(lr=1e-5),metrics=['accuracy'])\n",
        "model1.summary()"
      ],
      "execution_count": 18,
      "outputs": [
        {
          "output_type": "stream",
          "text": [
            "Downloading data from https://storage.googleapis.com/tensorflow/keras-applications/inception_resnet_v2/inception_resnet_v2_weights_tf_dim_ordering_tf_kernels_notop.h5\n",
            "219062272/219055592 [==============================] - 3s 0us/step\n",
            "Model: \"sequential\"\n",
            "_________________________________________________________________\n",
            "Layer (type)                 Output Shape              Param #   \n",
            "=================================================================\n",
            "inception_resnet_v2 (Functio (None, 2, 2, 1536)        54336736  \n",
            "_________________________________________________________________\n",
            "global_average_pooling2d (Gl (None, 1536)              0         \n",
            "_________________________________________________________________\n",
            "dense (Dense)                (None, 2)                 3074      \n",
            "=================================================================\n",
            "Total params: 54,339,810\n",
            "Trainable params: 54,279,266\n",
            "Non-trainable params: 60,544\n",
            "_________________________________________________________________\n"
          ],
          "name": "stdout"
        }
      ]
    },
    {
      "cell_type": "code",
      "metadata": {
        "id": "IswH5v0pzDan",
        "outputId": "14718397-8673-4703-f2b2-33b272538515",
        "colab": {
          "base_uri": "https://localhost:8080/",
          "height": 493
        }
      },
      "source": [
        "history = model1.fit(X_train, Y_train, batch_size = batch_size, epochs = epochs, \n",
        "                    validation_data = (X_val, Y_val),callbacks=[callbacks] )"
      ],
      "execution_count": 19,
      "outputs": [
        {
          "output_type": "stream",
          "text": [
            "Epoch 1/100\n",
            "216/216 [==============================] - 40s 185ms/step - loss: 0.5338 - accuracy: 0.7288 - val_loss: 0.4651 - val_accuracy: 0.7987\n",
            "Epoch 2/100\n",
            "216/216 [==============================] - 37s 169ms/step - loss: 0.3145 - accuracy: 0.8681 - val_loss: 0.3263 - val_accuracy: 0.8731\n",
            "Epoch 3/100\n",
            "216/216 [==============================] - 37s 169ms/step - loss: 0.2070 - accuracy: 0.9188 - val_loss: 0.2697 - val_accuracy: 0.8980\n",
            "Epoch 4/100\n",
            "216/216 [==============================] - 37s 169ms/step - loss: 0.1310 - accuracy: 0.9521 - val_loss: 0.2414 - val_accuracy: 0.9163\n",
            "Epoch 5/100\n",
            "216/216 [==============================] - 36s 169ms/step - loss: 0.0846 - accuracy: 0.9689 - val_loss: 0.2313 - val_accuracy: 0.9219\n",
            "Epoch 6/100\n",
            "216/216 [==============================] - 36s 169ms/step - loss: 0.0530 - accuracy: 0.9826 - val_loss: 0.2196 - val_accuracy: 0.9291\n",
            "Epoch 7/100\n",
            "216/216 [==============================] - 36s 169ms/step - loss: 0.0401 - accuracy: 0.9859 - val_loss: 0.2197 - val_accuracy: 0.9321\n",
            "Epoch 8/100\n",
            "216/216 [==============================] - 36s 169ms/step - loss: 0.0293 - accuracy: 0.9897 - val_loss: 0.2377 - val_accuracy: 0.9310\n",
            "Epoch 9/100\n",
            "216/216 [==============================] - 36s 169ms/step - loss: 0.0205 - accuracy: 0.9935 - val_loss: 0.2339 - val_accuracy: 0.9338\n",
            "Epoch 10/100\n",
            "216/216 [==============================] - 36s 168ms/step - loss: 0.0180 - accuracy: 0.9947 - val_loss: 0.2413 - val_accuracy: 0.9333\n",
            "Epoch 11/100\n",
            "216/216 [==============================] - 36s 168ms/step - loss: 0.0154 - accuracy: 0.9953 - val_loss: 0.2398 - val_accuracy: 0.9354\n",
            "Epoch 12/100\n",
            "216/216 [==============================] - 36s 168ms/step - loss: 0.0123 - accuracy: 0.9957 - val_loss: 0.2411 - val_accuracy: 0.9340\n",
            "Epoch 13/100\n",
            "216/216 [==============================] - ETA: 0s - loss: 0.0100 - accuracy: 0.9972\n",
            "Reached 99.7% accuracy so cancelling training!\n",
            "216/216 [==============================] - 36s 168ms/step - loss: 0.0100 - accuracy: 0.9972 - val_loss: 0.2372 - val_accuracy: 0.9363\n"
          ],
          "name": "stdout"
        }
      ]
    },
    {
      "cell_type": "markdown",
      "metadata": {
        "id": "2VxQ6413puuT"
      },
      "source": [
        "### Visualization and Model Quality Check"
      ]
    },
    {
      "cell_type": "code",
      "metadata": {
        "id": "vpsTNLqnw85c",
        "outputId": "53f4ce55-2b85-407a-911e-623548f085c3",
        "colab": {
          "base_uri": "https://localhost:8080/",
          "height": 302
        }
      },
      "source": [
        "f, (ax1, ax2) = plt.subplots(1, 2, figsize=(20, 4))\n",
        "f.subplots_adjust(top=0.95, wspace=0.2)\n",
        "\n",
        "#epoch_list = list(range(1,epoch+1))\n",
        "epoch_list = list(range(1,len(history.history['accuracy'])+1))\n",
        "ax1.plot(epoch_list, history.history['accuracy'],c='g', label='Train Accuracy')\n",
        "ax1.plot(epoch_list, history.history['val_accuracy'],c='r', label='Validation Accuracy')\n",
        "#ax1.set_xticks(np.arange(0, np.max(epoch_list), 2))\n",
        "ax1.set_ylabel('Accuracy',fontsize=15)\n",
        "ax1.set_xlabel('Epoch',fontsize=15)\n",
        "\n",
        "ax1.minorticks_on()\n",
        "ax1.yaxis.set_ticks_position('both')\n",
        "ax1.xaxis.set_ticks_position('both')\n",
        "l1 = ax1.legend(loc=\"best\",fontsize=15)\n",
        "\n",
        "ax2.plot(epoch_list, history.history['loss'],c='g', label='Train Loss')\n",
        "ax2.plot(epoch_list, history.history['val_loss'],c='r', label='Validation Loss')\n",
        "#ax2.set_xticks(np.arange(0, np.max(epoch_list), 2))\n",
        "ax2.set_ylabel('Loss Value',fontsize=15)\n",
        "ax2.set_xlabel('Epoch',fontsize=15)\n",
        "ax2.minorticks_on()\n",
        "ax2.yaxis.set_ticks_position('both')\n",
        "ax2.xaxis.set_ticks_position('both')\n",
        "l2 = ax2.legend(loc=\"best\",fontsize=15)\n"
      ],
      "execution_count": 20,
      "outputs": [
        {
          "output_type": "display_data",
          "data": {
            "image/png": "[encoded data removed]",
            "text/plain": [
              "<Figure size 1440x288 with 2 Axes>"
            ]
          },
          "metadata": {
            "tags": [],
            "needs_background": "light"
          }
        }
      ]
    },
    {
      "cell_type": "code",
      "metadata": {
        "id": "S2-UXIz_xoKk",
        "outputId": "a6b2ef44-1f10-4b1f-95f1-2a841f3c3ff6",
        "colab": {
          "base_uri": "https://localhost:8080/",
          "height": 673
        }
      },
      "source": [
        "warnings.filterwarnings(\"ignore\")\n",
        "#Output confusion matrix\n",
        "print_confusion_matrix(label, model1.predict_classes(X))"
      ],
      "execution_count": 64,
      "outputs": [
        {
          "output_type": "stream",
          "text": [
            "Accuracy% =  98.50302185030219\n",
            "              precision    recall  f1-score   support\n",
            "\n",
            "           0       0.99      0.98      0.99     11349\n",
            "           1       0.98      0.99      0.98     10161\n",
            "\n",
            "    accuracy                           0.99     21510\n",
            "   macro avg       0.98      0.99      0.98     21510\n",
            "weighted avg       0.99      0.99      0.99     21510\n",
            "\n",
            "---------------------------\n",
            "---------------------------\n",
            "True positive = 11157 , (51.87)%\n",
            "False positive = 192 , (0.89)% \n",
            "False negative = 130 , (0.60)%\n",
            "True negative =  10031 , (46.63)%\n",
            "---------------------------\n",
            "---------------------------\n",
            "\n",
            "\n"
          ],
          "name": "stdout"
        },
        {
          "output_type": "display_data",
          "data": {
            "image/png": "[encoded data removed]",
            "text/plain": [
              "<Figure size 432x288 with 2 Axes>"
            ]
          },
          "metadata": {
            "tags": []
          }
        }
      ]
    },
    {
      "cell_type": "code",
      "metadata": {
        "id": "WPXuevZKyKeI"
      },
      "source": [
        "model1.save(DATA_PREFIX+'/dataset/model-2.h5')"
      ],
      "execution_count": 24,
      "outputs": []
    },
    {
      "cell_type": "code",
      "metadata": {
        "id": "O4K5pLGZyn2A"
      },
      "source": [
        "#model1 = load_model('/content/gdrive/My Drive/Videos_DF/v/v2/dataset/model.h5')"
      ],
      "execution_count": null,
      "outputs": []
    }
  ]
}