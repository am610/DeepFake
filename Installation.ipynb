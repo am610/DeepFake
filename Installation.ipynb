{
 "cells": [
  {
   "cell_type": "markdown",
   "metadata": {},
   "source": [
    " # Executing The Code and Check Video Fidelity\n",
    " ### Using Python Notebook \n",
    " We have created a python [notebook: Sentinet-II-Video_Check.ipynb](https://github.com/am610/DeepFake/blob/main/Sentinel_II_Video_Check.ipynb), which can be run from online cloud platform like [Google Colab](https://colab.research.google.com/). Our trained model is already loaded in the notebook. \n",
    " \n",
    " Users can simply input videos in the respective cell with proper links. To check a video from the already present pool of videos we have, a google drive link of the correspondng folder is provided. Users should copy the folder to their own google drive and edit the path in the notebook to be able to load videos from the mounted google drive. On succesfull loading of a video, whose path looks something like this, \n",
    " \n",
    "<br> <i>path = '/content/gdrive/My Drive/Videos/*mp4'</i> <br> \n",
    "\n",
    "\n",
    "the path should point to the proper video directory location. \n",
    "\n",
    "Executing the successive cells should automatically print out the result of the fraud check of the video as either 'Real' or 'Fake' via the function <i>video_check()</i>.\n",
    "\n",
    "\n",
    "\n"
   ]
  },
  {
   "cell_type": "markdown",
   "metadata": {},
   "source": [
    "### Using Locally\n",
    "\n",
    "Skyhawk code can be also used locally. Folder <b>Skyhawk_LOCAL</b> should be downloaded locally and the instructions mentioned below should be followed :\n",
    "\n",
    "\n",
    "\n",
    "\n",
    "To run the script \"Skyhawk.sh\" locally, \n",
    "\n",
    "A) <b>DOWNLOADS</b> : The Trained Model file needs to be downloaded from : \n",
    "\n",
    "[https://drive.google.com/file/d/1T8hj8ww2xmW1rzDt_rJfo1l069md3GiY/view?usp=sharing](https://drive.google.com/file/d/1T8hj8ww2xmW1rzDt_rJfo1l069md3GiY/view?usp=sharing)\n",
    "\n",
    "Set the path of the Model file in the Skyhawk.py\n",
    "\n",
    "B) <b>DEPENDENCY REQUIREMENTS</b> :\n",
    "\n",
    " 1) OPENCV2<br>\n",
    "   Installation Guide : [Anaconda ](https://anaconda.org/conda-forge/opencv), [Pip ](https://pypi.org/project/opencv-python/)\n",
    "\n",
    "\n",
    " 2) DLAB<br>\n",
    "   Installation Guide : [Anaconda ](https://anaconda.org/menpo/dlib),  [Pip ](https://pypi.org/project/dlib/)\n",
    "\n",
    "\n",
    " 3) TENSORFLOW<br>\n",
    "   Installation Guide : [https://www.tensorflow.org/install](https://www.tensorflow.org/install)\n",
    "\n",
    "\n",
    " 4) SCI-KIT<br>\n",
    "   Installation Guide : [SCI-KIT](https://scikit-learn.org/stable/install.html), [Pip](https://pypi.org/project/scikit-learn/)\n",
    "\n",
    " 5) Apart from these major library requirements, it is assumed that the basic requirements are satisfied like 'NUMPY', 'MATPLOTLIB' etc. If not, these needs to be installed as well. \n",
    "\n",
    "C) <b>Execution</b> : \n",
    "\n",
    "  If all the above dependencies are satisfied, then\n",
    "\n",
    "   From terminal give permission to the script and then execute by typing (for Linux and MacOS, For Windows please consult the equivalent CMD syntax to run scripts) : \n",
    "\n",
    "   <b>chmod ug+x Skyhawk.sh</b>\n",
    "\n",
    "   <b>./Skyhawk.sh</b>\n",
    "\n",
    "\n",
    "  You will be prompted to enter the input video file's path. Enter the correct path and return. \n",
    "\n",
    "\n",
    "  A screen prompt will show if the video is Fake or Real. \n",
    "  \n",
    "<br><br><br><br><br><br>  \n",
    "  \n",
    "###### @Ayan Mitra, 2020.\n",
    "###### ayanmitra375@gmail.com"
   ]
  }
 ],
 "metadata": {
  "kernelspec": {
   "display_name": "Python 3",
   "language": "python",
   "name": "python3"
  },
  "language_info": {
   "codemirror_mode": {
    "name": "ipython",
    "version": 3
   },
   "file_extension": ".py",
   "mimetype": "text/x-python",
   "name": "python",
   "nbconvert_exporter": "python",
   "pygments_lexer": "ipython3",
   "version": "3.7.6"
  }
 },
 "nbformat": 4,
 "nbformat_minor": 4
}
